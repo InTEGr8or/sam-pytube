{
 "cells": [
  {
   "cell_type": "code",
   "execution_count": 10,
   "metadata": {},
   "outputs": [],
   "source": [
    "import os\n",
    "# import googleapiclient.discovery\n",
    "\n",
    "\n",
    "# API key obtained from the Google Developer Console\n",
    "api_key = os.environ.get('YOUTUBE_API_KEY')\n",
    "\n",
    "youtube = 'https://www.googleapis.com/youtube/v3/search?part=snippet&maxResults=25&q=python&type=video&key={YOUTUBE_API_KEY}'\n",
    "\n",
    "# create a YouTube API service\n",
    "# youtube = googleapiclient.discovery.build('youtube', 'v3', developerKey=api_key)\n",
    "\n",
    "# the username of the account whose liked videos you want to retrieve\n",
    "username = os.environ.get('YOUTUBE_USERNAME')\n",
    "\n",
    "# set the maximum number of liked videos to retrieve\n",
    "max_results = 50\n",
    "\n",
    "# retrieve the liked videos\n",
    "request = youtube #.channels().list(\n",
    "#   part='contentDetails',\n",
    "#   forUsername=username,\n",
    "#   maxResults=max_results\n",
    "# )\n",
    "# response = request.execute()\n",
    "\n",
    "# get the playlist ID of the liked videos playlist\n",
    "# playlist_id = response['items'][0]['contentDetails']['relatedPlaylists']['likes']\n",
    "\n",
    "# retrieve the list of liked videos\n",
    "# request = youtube.playlistItems().list(\n",
    "#   part='snippet',\n",
    "#   playlistId=playlist_id,\n",
    "#   maxResults=max_results\n",
    "# )\n",
    "# response = request.execute()\n",
    "\n",
    "# print the list of liked videos\n",
    "# for video in response['items']:\n",
    "#   print(video['snippet']['title'])\n"
   ]
  },
  {
   "cell_type": "code",
   "execution_count": 11,
   "metadata": {},
   "outputs": [
    {
     "data": {
      "text/plain": [
       "'nwIbM5dfQ8M'"
      ]
     },
     "execution_count": 11,
     "metadata": {},
     "output_type": "execute_result"
    }
   ],
   "source": [
    "import re\n",
    "\n",
    "vidIdPattern = re.compile(r\"((?<=watch\\?v=).*|(?<=.be\\/)(.*))|(?<=shorts\\/)(.*)(?=(\\?|/))?\")\n",
    "videoUrl = \"https://youtube.com/shorts/nwIbM5dfQ8M\"\n",
    "vidIdPattern.search(videoUrl).group()"
   ]
  }
 ],
 "metadata": {
  "kernelspec": {
   "display_name": "Python 3",
   "language": "python",
   "name": "python3"
  },
  "language_info": {
   "codemirror_mode": {
    "name": "ipython",
    "version": 3
   },
   "file_extension": ".py",
   "mimetype": "text/x-python",
   "name": "python",
   "nbconvert_exporter": "python",
   "pygments_lexer": "ipython3",
   "version": "3.9.12"
  },
  "orig_nbformat": 4,
  "vscode": {
   "interpreter": {
    "hash": "a1095879b9a1d916a6b9b664f97b78d2a7c64a571dcf7276d826d3a287daf6da"
   }
  }
 },
 "nbformat": 4,
 "nbformat_minor": 2
}
