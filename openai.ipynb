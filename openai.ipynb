{
 "cells": [
  {
   "cell_type": "code",
   "execution_count": null,
   "metadata": {},
   "outputs": [],
   "source": [
    "import json\n",
    "import io\n",
    "from datetime import datetime\n",
    "import sys\n",
    "import os.path\n",
    "from functools import reduce\n",
    "import openai\n",
    "\n",
    "openai.api_key = os.environ['CHAT_GPT_TOKEN']\n",
    "datetime.now().strftime(\"%Y-%m-%d %H:%M:%S\")"
   ]
  },
  {
   "cell_type": "code",
   "execution_count": null,
   "metadata": {},
   "outputs": [],
   "source": [
    "def get_summary(text: str, max_tokens, temperature=0.9, engine=\"davinci\") -> str:\n",
    "    max_total_tokens = 2049\n",
    "    text = f\"Please summarize the following text in {max_tokens} tokens: \\n\\n[{text}]\"\n",
    "    chunks = [text[i:i+max_total_tokens] for i in range(0, len(text), max_total_tokens)]\n",
    "    max_summary_tokens = int(max_tokens / len(chunks))\n",
    "    print(f\"max_summary_tokens: {max_summary_tokens}\")\n",
    "    summaries = []\n",
    "    for chunk in chunks:\n",
    "        print(f\"chunk: {chunk}\")\n",
    "        response = openai.Completion.create(\n",
    "            engine=engine,\n",
    "            prompt=chunk,\n",
    "            max_tokens=max_summary_tokens,\n",
    "            temperature=temperature,\n",
    "            top_p=1\n",
    "        )\n",
    "        print(\"response: \", response)\n",
    "        summaries.append(response.choices[0].text)\n",
    "    summary = \" \".join(summaries)\n",
    "    return summary\n",
    "\n",
    "print(datetime.now().strftime(\"%Y-%m-%d %H:%M:%S\"))"
   ]
  },
  {
   "cell_type": "code",
   "execution_count": null,
   "metadata": {},
   "outputs": [],
   "source": [
    "text = \"This is a test of the emergency broadcast system. This is only a test. If this had been an actual emergency, you would have been instructed to do something. This concludes this test of the emergency broadcast system.\"\n",
    "get_summary(text, 100, temperature=0.9, engine=\"text-davinci-003\")"
   ]
  },
  {
   "cell_type": "code",
   "execution_count": 42,
   "metadata": {},
   "outputs": [
    {
     "name": "stdout",
     "output_type": "stream",
     "text": [
      "['Lorem ipsum', 'dolor sit', 'amet, consectetur', 'adipiscing', 'elit. Sed', 'tincidunt', 'ornare ipsum,', 'a pretium', 'orci malesuada', 'eu. Suspendisse', 'non sollicitudin', 'velit, at', 'ullamcorper', 'urna. Donec', 'et enim dapibus,', 'elementum', 'lectus et,', 'tincidunt', 'purus. Vivamus', 'ultricies,', 'turpis ut', 'elementum', 'interdum,', 'purus dolor', 'consectetur', 'urna, at euismod', 'nulla libero', 'non purus.', 'Nullam ac', 'dui id ex', 'imperdiet', 'aliquam. Maecenas', 'in luctus', 'massa. Nulla', 'facilisi.', 'Fusce venenatis', 'interdum tortor', 'non laoreet.', 'Donec lacinia', 'ex quis vehicula', 'elementum.', 'Integer vel', 'pretium velit.', 'Morbi scelerisque', 'tellus et', 'dolor porttitor', 'scelerisque.', 'Suspendisse', 'euismod, sem', 'sit amet vehicula', 'interdum,', 'erat diam', 'rutrum elit,', 'eu tincidunt', 'mauris justo']\n"
     ]
    }
   ],
   "source": [
    "def split_text(text: str, max_chars: int=2049) -> list:\n",
    "\n",
    "    words = text.split()\n",
    "    groups = []\n",
    "    current_group = \"\"\n",
    "\n",
    "    for word in words:\n",
    "        if len(current_group) < max_chars:\n",
    "            current_group += \" \" + word\n",
    "        else:\n",
    "            groups.append(current_group[1:])\n",
    "            current_group = \" \" + word\n",
    "\n",
    "    return groups\n",
    "\n",
    "text = \"Lorem ipsum dolor sit amet, consectetur adipiscing elit. Sed tincidunt ornare ipsum, a pretium orci malesuada eu. Suspendisse non sollicitudin velit, at ullamcorper urna. Donec et enim dapibus, elementum lectus et, tincidunt purus. Vivamus ultricies, turpis ut elementum interdum, purus dolor consectetur urna, at euismod nulla libero non purus. Nullam ac dui id ex imperdiet aliquam. Maecenas in luctus massa. Nulla facilisi. Fusce venenatis interdum tortor non laoreet. Donec lacinia ex quis vehicula elementum. Integer vel pretium velit. Morbi scelerisque tellus et dolor porttitor scelerisque. Suspendisse euismod, sem sit amet vehicula interdum, erat diam rutrum elit, eu tincidunt mauris justo sed tellus.\"\n",
    "\n",
    "groups = split_text(text, 10)\n",
    "print(groups)\n"
   ]
  },
  {
   "cell_type": "code",
   "execution_count": 19,
   "metadata": {},
   "outputs": [
    {
     "name": "stdout",
     "output_type": "stream",
     "text": [
      "[['Lorem', 'ipsum', 'dolor', 'sit', 'amet,', 'consectetur', 'adipiscing', 'elit.'], ['Sed', 'tincidunt', 'ornare', 'ipsum,', 'a', 'pretium', 'orci', 'malesuada', 'eu.'], ['Suspendisse', 'non', 'sollicitudin', 'velit,', 'at', 'ullamcorper', 'urna.'], ['Donec', 'et', 'enim', 'dapibus,', 'elementum', 'lectus', 'et,', 'tincidunt', 'purus.'], ['Vivamus', 'ultricies,', 'turpis', 'ut', 'elementum', 'interdum,', 'purus', 'dolor', 'consectetur', 'urna,', 'at', 'euismod', 'nulla', 'libero', 'non', 'purus.'], ['Nullam', 'ac', 'dui', 'id', 'ex', 'imperdiet', 'aliquam.'], ['Maecenas', 'in', 'luctus', 'massa.'], ['Nulla', 'facilisi.'], ['Fusce', 'venenatis', 'interdum', 'tortor', 'non', 'laoreet.'], ['Donec', 'lacinia', 'ex', 'quis', 'vehicula', 'elementum.'], ['Integer', 'vel', 'pretium', 'velit.'], ['Morbi', 'scelerisque', 'tellus', 'et', 'dolor', 'porttitor', 'scelerisque.'], ['Suspendisse', 'euismod,', 'sem', 'sit', 'amet', 'vehicula', 'interdum,', 'erat', 'diam', 'rutrum', 'elit,', 'eu', 'tincidunt', 'mauris', 'justo', 'sed', 'tellus.']]\n"
     ]
    }
   ],
   "source": [
    "import re\n",
    "\n",
    "def split_text(text: str) -> list:\n",
    "    # Split the text into sentences\n",
    "    sentences = re.split(r'(?<!\\w\\.\\w.)(?<![A-Z][a-z]\\.)(?<=\\.|\\?)\\s', text)\n",
    "\n",
    "    # Split each sentence into words and return a nested list\n",
    "    return [sentence.split() for sentence in sentences]\n",
    "\n",
    "text = \"Lorem ipsum dolor sit amet, consectetur adipiscing elit. Sed tincidunt ornare ipsum, a pretium orci malesuada eu. Suspendisse non sollicitudin velit, at ullamcorper urna. Donec et enim dapibus, elementum lectus et, tincidunt purus. Vivamus ultricies, turpis ut elementum interdum, purus dolor consectetur urna, at euismod nulla libero non purus. Nullam ac dui id ex imperdiet aliquam. Maecenas in luctus massa. Nulla facilisi. Fusce venenatis interdum tortor non laoreet. Donec lacinia ex quis vehicula elementum. Integer vel pretium velit. Morbi scelerisque tellus et dolor porttitor scelerisque. Suspendisse euismod, sem sit amet vehicula interdum, erat diam rutrum elit, eu tincidunt mauris justo sed tellus.\"\n",
    "\n",
    "sentences_and_words = split_text(text)\n",
    "print(sentences_and_words)\n"
   ]
  }
 ],
 "metadata": {
  "kernelspec": {
   "display_name": "Python 3",
   "language": "python",
   "name": "python3"
  },
  "language_info": {
   "codemirror_mode": {
    "name": "ipython",
    "version": 3
   },
   "file_extension": ".py",
   "mimetype": "text/x-python",
   "name": "python",
   "nbconvert_exporter": "python",
   "pygments_lexer": "ipython3",
   "version": "3.9.12"
  },
  "orig_nbformat": 4,
  "vscode": {
   "interpreter": {
    "hash": "a1095879b9a1d916a6b9b664f97b78d2a7c64a571dcf7276d826d3a287daf6da"
   }
  }
 },
 "nbformat": 4,
 "nbformat_minor": 2
}
