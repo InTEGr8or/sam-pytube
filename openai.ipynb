{
 "cells": [
  {
   "cell_type": "code",
   "execution_count": 1,
   "metadata": {},
   "outputs": [],
   "source": [
    "\n",
    "import json\n",
    "import io\n",
    "from datetime import datetime\n",
    "from pytube import YouTube\n",
    "import boto3\n",
    "import sys\n",
    "import logging\n",
    "import os.path\n",
    "import re\n",
    "import xmltodict\n",
    "from functools import reduce\n",
    "import openai\n",
    "\n",
    "S3 = boto3.client('s3', region_name=\"us-east-1\")\n",
    "dyndb = boto3.client('dynamodb', region_name=\"us-east-1\")\n",
    "ssm = boto3.client('ssm', region_name=\"us-east-1\")\n",
    "\n",
    "configs = ssm.get_parameter(Name=\"/civilton/youtube/config\", WithDecryption=False)['Parameter']['Value'].split(\",\")\n",
    "\n",
    "BUCKET_NAME = [config for config in configs if 'bucket_name' in config][0].split(\"=\")[1]\n",
    "URL_EXPIRATION = [config for config in configs if 'url_expiration' in config][0].split(\"=\")[1]\n",
    "CHAT_GPT_TOKEN = [config for config in configs if 'CHAT_GPT_TOKEN' in config][0].split(\"=\")[1]\n",
    "MAX_TOKENS = int([config for config in configs if 'max_tokens' in config][0].split(\"=\")[1])\n",
    "TEMPERATURE = float([config for config in configs if 'temperature' in config][0].split(\"=\")[1])\n",
    "\n",
    "openai.api_key = os.environ['CHAT_GPT_TOKEN']"
   ]
  },
  {
   "cell_type": "code",
   "execution_count": 5,
   "metadata": {},
   "outputs": [],
   "source": [
    "def get_summary(text: str) -> str:\n",
    "    max_total_tokens = 2049\n",
    "    chunks = [text[i:i+max_total_tokens] for i in range(0, len(text), max_total_tokens)]\n",
    "    max_summary_tokens = int(MAX_TOKENS / len(chunks))\n",
    "    summaries = []\n",
    "    for chunck in chunks:\n",
    "        response = openai.Completion.create(\n",
    "            engine=\"text-davinci-002\",\n",
    "            prompt=text,\n",
    "            max_tokens=max_summary_tokens,\n",
    "            temperature=TEMPERATURE,\n",
    "            top_p=1,\n",
    "            frequency_penalty=0,\n",
    "            presence_penalty=0.6,\n",
    "            stop=[\"\\n\", \" Human:\", \" AI:\"]\n",
    "        )\n",
    "        summaries.append(response.choices[0].text)\n",
    "    summary = \" \".join(summaries)\n",
    "    return summary\n"
   ]
  },
  {
   "cell_type": "code",
   "execution_count": 6,
   "metadata": {},
   "outputs": [
    {
     "data": {
      "text/plain": [
       "''"
      ]
     },
     "execution_count": 6,
     "metadata": {},
     "output_type": "execute_result"
    }
   ],
   "source": [
    "text = \"This is a test of the emergency broadcast system. This is only a test. If this had been an actual emergency, you would have been instructed to do something. This concludes this test of the emergency broadcast system.\"\n",
    "get_summary(text)"
   ]
  }
 ],
 "metadata": {
  "kernelspec": {
   "display_name": "Python 3",
   "language": "python",
   "name": "python3"
  },
  "language_info": {
   "codemirror_mode": {
    "name": "ipython",
    "version": 3
   },
   "file_extension": ".py",
   "mimetype": "text/x-python",
   "name": "python",
   "nbconvert_exporter": "python",
   "pygments_lexer": "ipython3",
   "version": "3.9.12"
  },
  "orig_nbformat": 4,
  "vscode": {
   "interpreter": {
    "hash": "a1095879b9a1d916a6b9b664f97b78d2a7c64a571dcf7276d826d3a287daf6da"
   }
  }
 },
 "nbformat": 4,
 "nbformat_minor": 2
}
